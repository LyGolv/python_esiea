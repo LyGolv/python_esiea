{
 "cells": [
  {
   "cell_type": "code",
   "execution_count": 3,
   "id": "57eeb515",
   "metadata": {},
   "outputs": [
    {
     "name": "stdout",
     "output_type": "stream",
     "text": [
      "Nombre de pays déclarer: 238\n"
     ]
    }
   ],
   "source": [
    "import pandas as pd\n",
    "\n",
    "tp = pd.read_csv(\"full-oldb-20220110/nodes-addresses.csv\", low_memory=False, iterator=True, chunksize=1000)\n",
    "df = pd.concat(tp, ignore_index=True)\n",
    "countries = df['countries'].drop_duplicates()\n",
    "print(f\"Nombre de pays déclarer: {countries.shape[0]}\")"
   ]
  },
  {
   "cell_type": "code",
   "execution_count": null,
   "id": "7dfbd138",
   "metadata": {},
   "outputs": [],
   "source": [
    "import pandas as pd\n",
    "\n",
    "def inoffshoreleaks_find(file_path):\n",
    "    tp = pd.read_csv(file_path, low_memory=False, iterator=True, chunksize=1000)\n",
    "    df = pd.concat(tp, ignore_index=True)\n",
    "    df_2 = pd.DataFrame()\n",
    "    for i in df.columns:\n",
    "        df_1 = df[df[i]==\"Honk kong\"]\n",
    "        df_2 = pd.concat([df_2,df_1], ignore_index=True)\n",
    "    return len(df_2)\n",
    "\n",
    "offshoreleaks_files = [\"full-oldb-20220110/nodes-addresses.csv\", \n",
    "                       \"full-oldb-20220110/nodes-entities.csv\", \n",
    "                       \"full-oldb-20220110/nodes-intermediaries.csv\", \n",
    "                       \"full-oldb-20220110/nodes-officers.csv\", \n",
    "                       \"full-oldb-20220110/nodes-others.csv\",\n",
    "                       \"full-oldb-20220110/relationships.csv\"]\n",
    "\n",
    "print(sum([inoffshoreleaks_find(x) for x in offshoreleaks_files]))\n"
   ]
  },
  {
   "cell_type": "code",
   "execution_count": 46,
   "id": "e04c38eb",
   "metadata": {},
   "outputs": [
    {
     "name": "stdout",
     "output_type": "stream",
     "text": [
      "0\n"
     ]
    }
   ],
   "source": [
    "import pandas as pd\n",
    "\n",
    "tp = pd.read_csv(\"full-oldb-20220110/nodes-addresses.csv\", low_memory=False, iterator=True, chunksize=1000)\n",
    "df = pd.concat(tp, ignore_index=True)\n",
    "df_2 = pd.DataFrame()\n",
    "for i in df.columns:\n",
    "    df_1 = df[df[i]==\"EL PORTADOR\"]\n",
    "    df_2 = pd.concat([df_2,df_1], ignore_index=True)\n",
    "print(len(df_2))"
   ]
  },
  {
   "cell_type": "code",
   "execution_count": 47,
   "id": "a83e009b",
   "metadata": {},
   "outputs": [
    {
     "data": {
      "image/png": "[encoded data removed]",
      "text/plain": [
       "<Figure size 432x288 with 1 Axes>"
      ]
     },
     "metadata": {},
     "output_type": "display_data"
    }
   ],
   "source": [
    "# libraries & dataset\n",
    "import seaborn as sns\n",
    "import matplotlib.pyplot as plt\n",
    "# set a grey background (use sns.set_theme() if seaborn version 0.11.0 or above) \n",
    "sns.set(style=\"darkgrid\")\n",
    "df = sns.load_dataset(\"iris\")\n",
    "sns\n",
    "\n",
    "sns.histplot(data=df, x=\"sepal_length\")\n",
    "plt.show()"
   ]
  },
  {
   "cell_type": "code",
   "execution_count": null,
   "id": "759fa3a7",
   "metadata": {},
   "outputs": [],
   "source": []
  }
 ],
 "metadata": {
  "kernelspec": {
   "display_name": "Python 3 (ipykernel)",
   "language": "python",
   "name": "python3"
  },
  "language_info": {
   "codemirror_mode": {
    "name": "ipython",
    "version": 3
   },
   "file_extension": ".py",
   "mimetype": "text/x-python",
   "name": "python",
   "nbconvert_exporter": "python",
   "pygments_lexer": "ipython3",
   "version": "3.10.2"
  }
 },
 "nbformat": 4,
 "nbformat_minor": 5
}
