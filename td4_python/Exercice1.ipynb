{
 "cells": [
  {
   "cell_type": "markdown",
   "id": "aaa3a020",
   "metadata": {},
   "source": [
    "# Exercice 1 :\n",
    "\n",
    " --------------------------\n",
    " ### 1) Qu’est-ce qu’un bot ?\n",
    "\n",
    " > Un ***bot*** est un agent logiciel agissant côté serveur effectuant des tâches automatiques de façon répétitive.\n",
    " \n",
    " -------------------------------\n",
    " ### 2) Qu'est ce que le logging ?\n",
    "\n",
    " > le ***logging*** est la gestion de d'un journal d'évènement.\n",
    "\n",
    " -----------------------------\n",
    " ### 3) À quoi servent les logs? \n",
    "\n",
    " > Les ***logs*** servent pour la plupart du temps à identifier les différents incident survenu sur un \n",
    " système ou de le prevenir."
   ]
  }
 ],
 "metadata": {
  "kernelspec": {
   "display_name": "Python 3 (ipykernel)",
   "language": "python",
   "name": "python3"
  },
  "language_info": {
   "codemirror_mode": {
    "name": "ipython",
    "version": 3
   },
   "file_extension": ".py",
   "mimetype": "text/x-python",
   "name": "python",
   "nbconvert_exporter": "python",
   "pygments_lexer": "ipython3",
   "version": "3.10.2"
  }
 },
 "nbformat": 4,
 "nbformat_minor": 5
}
